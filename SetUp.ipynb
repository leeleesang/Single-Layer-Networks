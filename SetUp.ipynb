{
 "cells": [
  {
   "cell_type": "markdown",
   "id": "parliamentary-requirement",
   "metadata": {},
   "source": [
    "Import packages"
   ]
  },
  {
   "cell_type": "code",
   "execution_count": 17,
   "id": "aggregate-kidney",
   "metadata": {},
   "outputs": [],
   "source": [
    "import numpy as np\n",
    "import copy\n",
    "import time\n",
    "import os\n",
    "\n",
    "import matplotlib.pyplot as plt\n",
    "from mpl_toolkits import mplot3d\n",
    "\n",
    "\n",
    "import torch\n",
    "import torchvision\n",
    "import torch.nn as nn\n",
    "import torch.optim as optim"
   ]
  },
  {
   "cell_type": "markdown",
   "id": "dental-international",
   "metadata": {},
   "source": [
    "Useful Functions"
   ]
  },
  {
   "cell_type": "code",
   "execution_count": 17,
   "id": "discrete-luther",
   "metadata": {},
   "outputs": [],
   "source": [
    "# image show function\n",
    "def imshow(x, title=None):\n",
    "    if torch.is_tensor(x) :\n",
    "        x.detach().cpu().squeeze()\n",
    "        plt.imshow(x)\n",
    "        plt.title(title)\n",
    "        plt.show()\n",
    "    else :\n",
    "        plt.imshow(x.squeeze())\n",
    "        plt.title(title)\n",
    "        plt.show()\n",
    "        \n",
    "def create_directory(directory): \n",
    "    try: \n",
    "        if not os.path.exists(directory): \n",
    "            os.makedirs(directory) \n",
    "    except OSError: print(\"Error: Failed to create the directory.\")\n",
    "        \n",
    "def savefig(directory):\n",
    "    plt.savefig(directory)\n",
    "    plt.show()\n",
    "    plt.close()"
   ]
  }
 ],
 "metadata": {
  "kernelspec": {
   "display_name": "Python 3",
   "language": "python",
   "name": "python3"
  },
  "language_info": {
   "codemirror_mode": {
    "name": "ipython",
    "version": 3
   },
   "file_extension": ".py",
   "mimetype": "text/x-python",
   "name": "python",
   "nbconvert_exporter": "python",
   "pygments_lexer": "ipython3",
   "version": "3.7.9"
  }
 },
 "nbformat": 4,
 "nbformat_minor": 5
}
