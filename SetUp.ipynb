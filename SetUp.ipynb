{
 "cells": [
  {
   "cell_type": "markdown",
   "id": "economic-trout",
   "metadata": {},
   "source": [
    "Import packages"
   ]
  },
  {
   "cell_type": "code",
   "execution_count": 1,
   "id": "parental-expression",
   "metadata": {},
   "outputs": [],
   "source": [
    "import numpy as np\n",
    "import copy\n",
    "import time\n",
    "import datetime\n",
    "import os\n",
    "from tqdm import tqdm\n",
    "\n",
    "import matplotlib.pyplot as plt\n",
    "from mpl_toolkits import mplot3d\n",
    "\n",
    "\n",
    "import torch\n",
    "import torchvision\n",
    "import torch.nn as nn\n",
    "import torch.optim as optim\n",
    "from torch.utils.tensorboard import SummaryWriter"
   ]
  },
  {
   "cell_type": "markdown",
   "id": "operating-kentucky",
   "metadata": {},
   "source": [
    "Useful Functions"
   ]
  },
  {
   "cell_type": "code",
   "execution_count": 2,
   "id": "different-heater",
   "metadata": {},
   "outputs": [],
   "source": [
    "# image show function\n",
    "def imshow(x, title=None):\n",
    "    if torch.is_tensor(x) :\n",
    "        _x = x.detach().cpu().squeeze()\n",
    "        if _x.dim() == 2:\n",
    "            plt.imshow(_x, cmap='gray')\n",
    "        else:\n",
    "            plt.imshow(_x)\n",
    "        plt.title(title)\n",
    "        plt.show()\n",
    "    else :\n",
    "        plt.imshow(x.squeeze())\n",
    "        plt.title(title)\n",
    "        plt.show()\n",
    "        \n",
    "def create_directory(directory): \n",
    "    try: \n",
    "        if not os.path.exists(directory):\n",
    "            os.makedirs(directory)\n",
    "    except OSError: print(\"Error: Failed to create the directory.\")\n",
    "        \n",
    "def savefig(directory):\n",
    "    plt.savefig(directory)\n",
    "    plt.show()\n",
    "    plt.close()"
   ]
  },
  {
   "cell_type": "code",
   "execution_count": 3,
   "id": "behavioral-communist",
   "metadata": {},
   "outputs": [],
   "source": [
    "# Single-Layer Linear and ReLU Networks\n",
    "\n",
    "class Linear_Net(nn.Module):\n",
    "    def __init__(self):\n",
    "        super(Linear_Net, self).__init__()\n",
    "        self.module = nn.Sequential(\n",
    "            nn.Linear(d, 1, bias=False)\n",
    "        )\n",
    "    def forward(self, x):\n",
    "        return self.module(x) \n",
    "    \n",
    "    def weight(self):\n",
    "        return self.module[0].weight.detach().cpu()\n",
    "\n",
    "\n",
    "class ReLU_Net(nn.Module):\n",
    "    def __init__(self, output_class=1):\n",
    "        super(ReLU_Net, self).__init__()\n",
    "        self.module = nn.Sequential(\n",
    "            nn.Linear(d, output_class, bias=False),\n",
    "            nn.ReLU()\n",
    "        )\n",
    "    def forward(self, x):\n",
    "        return self.module(x) \n",
    "    \n",
    "    def weight(self):\n",
    "        return self.module[0].weight.detach().cpu()"
   ]
  },
  {
   "cell_type": "code",
   "execution_count": 4,
   "id": "hungarian-belfast",
   "metadata": {},
   "outputs": [],
   "source": [
    "# data loader\n",
    "def data_load(dataset):\n",
    "    if dataset == 'MNIST' :\n",
    "        trn_dataset = torchvision.datasets.MNIST(\"./Datasets\", train=True, download=False,\n",
    "                                                 transform=torchvision.transforms.ToTensor())\n",
    "    if dataset == 'CIFAR10' :\n",
    "        trn_dataset = torchvision.datasets.CIFAR10(\"./Datasets\", train=True, download=False,\n",
    "                                                 transform=torchvision.transforms.Compose([\n",
    "                                                     torchvision.transforms.ToTensor(),\n",
    "                                                     torchvision.transforms.Grayscale(),\n",
    "                                                 ])\n",
    "                                                  )\n",
    "\n",
    "    trn_total_X, trn_total_Y = torch.tensor(trn_dataset.data/255).clone().float(), torch.tensor(trn_dataset.targets).clone().float()\n",
    "    trn_X = trn_total_X[:n].reshape(n, -1) # n x d matrix\n",
    "    trn_Y = trn_total_Y[:n].reshape(n, 1) # n x 1 vector\n",
    "    return trn_X, trn_Y"
   ]
  }
 ],
 "metadata": {
  "kernelspec": {
   "display_name": "Python 3",
   "language": "python",
   "name": "python3"
  },
  "language_info": {
   "codemirror_mode": {
    "name": "ipython",
    "version": 3
   },
   "file_extension": ".py",
   "mimetype": "text/x-python",
   "name": "python",
   "nbconvert_exporter": "python",
   "pygments_lexer": "ipython3",
   "version": "3.7.9"
  }
 },
 "nbformat": 4,
 "nbformat_minor": 5
}
