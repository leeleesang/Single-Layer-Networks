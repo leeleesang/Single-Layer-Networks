{
 "cells": [
  {
   "cell_type": "code",
   "execution_count": 1,
   "id": "offensive-pantyhose",
   "metadata": {},
   "outputs": [],
   "source": [
    "# import basic packages\n",
    "%run SetUp.ipynb"
   ]
  },
  {
   "cell_type": "markdown",
   "id": "fuzzy-damage",
   "metadata": {},
   "source": [
    "Configuration."
   ]
  },
  {
   "cell_type": "code",
   "execution_count": 2,
   "id": "crucial-teach",
   "metadata": {},
   "outputs": [],
   "source": [
    "## Configuration\n",
    "Title = \"Exp_CIFAR\"\n",
    "device = \"cuda:1\" if torch.cuda.is_available() else \"cpu\"\n",
    "\n",
    "# create directory\n",
    "output_path = f\"./Results/{Title}\"\n",
    "create_directory(output_path)\n",
    "\n",
    "# data setting \n",
    "DATA = \"CIFAR10\"\n",
    "img_size = 32\n",
    "n = 1000 # number of data \n",
    "d = 1*img_size*img_size # dimension of data\n",
    "output_class = 10 # output dimension // trainning multi single-layer networks\n",
    "y_true = 30 # true label\n",
    "y_false = 0 # false label\n",
    "\n",
    "# load data \n",
    "X, Y = data_load(DATA)\n",
    "X = X.to(device) # input X is of shape n x d \n",
    "X = torchvision.transforms.Grayscale()(X.reshape(n,32,32,3).permute(0,3,1,2)).permute(0,2,3,1).view(n,-1)\n",
    "Y = (y_false + (y_true-y_false)*(Y == torch.arange(10)).float()).to(device) # label Y is one hot\n",
    "\n",
    "# UserWarning occurs, due to the torch version and torchvision version."
   ]
  },
  {
   "cell_type": "code",
   "execution_count": 3,
   "id": "desirable-glass",
   "metadata": {},
   "outputs": [],
   "source": [
    "net = ReLU_Net(output_class=output_class)\n",
    "net.module[0].weight = nn.Parameter(torch.rand(output_class, d)*0.0000001)\n",
    "net.to(device)\n",
    "\n",
    "\n",
    "# Optimization setting\n",
    "Epochs = 1000*1000\n",
    "lr = 0.005\n",
    "criterion = nn.MSELoss()\n",
    "optimizer = optim.SGD(net.parameters(), lr=lr)\n",
    "folder_name = output_path + '/runs/' + datetime.datetime.now().strftime(\"%B%d_%H_%M_%S\")\n",
    "writer = SummaryWriter(folder_name)\n",
    "# Save CFG file\n",
    "f = open(f\"./{folder_name}/CFG.text\", 'w')\n",
    "f.write(\n",
    "f\"\"\"\n",
    "    This is a CFG file.\n",
    "\n",
    "    # dataset\n",
    "    {DATA}\n",
    "    img_size = {img_size}\n",
    "    n = {n} # number of data\n",
    "    y_true = {y_true}\n",
    "    y_false = {y_false}\n",
    "    num_class = {output_class}\n",
    "\n",
    "    # optimization\n",
    "    Epochs = {Epochs}\n",
    "    lr = {lr}\n",
    "\"\"\"\n",
    ")\n",
    "f.close()"
   ]
  },
  {
   "cell_type": "code",
   "execution_count": null,
   "id": "thousand-conviction",
   "metadata": {},
   "outputs": [],
   "source": [
    "# loss_tr = np.empty(0)\n",
    "print(\"Start Training\")\n",
    "time.sleep(1)\n",
    "\n",
    "log_period = 100\n",
    "for epoch in tqdm(range(Epochs)) :\n",
    "    loss = criterion(net(X), Y)\n",
    "    loss.backward()\n",
    "    optimizer.step()\n",
    "    net.zero_grad()\n",
    "    \n",
    "    if epoch % log_period == 0 :\n",
    "#         loss_tr = np.append(loss_tr, loss.item())\n",
    "        writer.add_scalar(\"ReLU/Loss\", loss.item(), epoch+1)\n",
    "        writer.add_scalar(\"ReLU/# of SVs\", (net(X)>0).prod(axis=1).sum().item(), epoch+1)\n",
    "        writer.add_scalar(\"ReLU/# of nSVs\", (net(X)==0).prod(axis=1).sum().item(), epoch+1)"
   ]
  },
  {
   "cell_type": "code",
   "execution_count": null,
   "id": "forbidden-jersey",
   "metadata": {},
   "outputs": [],
   "source": [
    "# save non-support vectors by images\n",
    "# nSVs = X[(net(X)==0).squeeze()]\n",
    "nSVs_index = (net(X)==0).prod(axis=1).nonzero()[:,0]\n",
    "for index in nSVs_index:\n",
    "    plt.imshow(X[index].view(img_size,img_size,3).cpu().detach())\n",
    "    plt.savefig(folder_name+f\"/{index}.png\")\n",
    "    plt.close()\n",
    "print(f\"There are {len(nSVs_index)} deactivated data\")"
   ]
  },
  {
   "cell_type": "code",
   "execution_count": null,
   "id": "adopted-hometown",
   "metadata": {},
   "outputs": [],
   "source": [
    "# save\n",
    "torch.save(net.state_dict(), f\"./{folder_name}/net.pt\")"
   ]
  }
 ],
 "metadata": {
  "kernelspec": {
   "display_name": "Python 3",
   "language": "python",
   "name": "python3"
  },
  "language_info": {
   "codemirror_mode": {
    "name": "ipython",
    "version": 3
   },
   "file_extension": ".py",
   "mimetype": "text/x-python",
   "name": "python",
   "nbconvert_exporter": "python",
   "pygments_lexer": "ipython3",
   "version": "3.7.9"
  }
 },
 "nbformat": 4,
 "nbformat_minor": 5
}
