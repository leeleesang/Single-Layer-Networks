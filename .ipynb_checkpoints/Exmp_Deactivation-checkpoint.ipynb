{
 "cells": [
  {
   "cell_type": "code",
   "execution_count": 1,
   "id": "northern-criminal",
   "metadata": {},
   "outputs": [],
   "source": [
    "%run SetUp.ipynb"
   ]
  },
  {
   "cell_type": "markdown",
   "id": "difficult-pennsylvania",
   "metadata": {},
   "source": [
    "Configuration."
   ]
  },
  {
   "cell_type": "code",
   "execution_count": 2,
   "id": "macro-bahrain",
   "metadata": {},
   "outputs": [
    {
     "name": "stdout",
     "output_type": "stream",
     "text": [
      "eigenvalues of H = tensor([17.1551,  5.1156,  0.7293])\n",
      "w* = tensor([ 1.0000e-02,  2.4950e+00, -1.1455e-07])\n"
     ]
    }
   ],
   "source": [
    "## Configuration\n",
    "Title = \"Exmp_Deactivation\"\n",
    "device = 'cpu' # \"cuda:1\" if torch.cuda.is_available() else \"cpu\"\n",
    "output_path = f\"./Results/{Title}\"\n",
    "create_directory(output_path)\n",
    "\n",
    "\n",
    "# data setting\n",
    "n=3 # number of data\n",
    "d=3 # dimension of data\n",
    "\n",
    "\n",
    "# input X is shape of n x d \n",
    "X = torch.tensor([[1, 0, 4], # x1^T\n",
    "                  [1, 2, 0], # x2^T\n",
    "                  [1, 0., 0]], # x3^T\n",
    "                 device=device).float()\n",
    "# label Y is shape of n x 1\n",
    "Y = torch.tensor([[0.01], [5], [0.01]], device=device).float()\n",
    "\n",
    "H = X.t().matmul(X) # The Hessian Matirx\n",
    "q = (X * Y).sum(0)\n",
    "\n",
    "U, D, _ = torch.svd(H) # eigenvector decompsition of H\n",
    "print(\"eigenvalues of H =\", D)\n",
    "w_star = torch.linalg.inv(H).matmul(q) # the global minimum of the linear network\n",
    "w_star_cpu = w_star.cpu()\n",
    "zero = np.array([0,0,0.])\n",
    "print(\"w* =\", w_star)"
   ]
  },
  {
   "cell_type": "markdown",
   "id": "medium-disabled",
   "metadata": {},
   "source": [
    "Single-Layer Linear and ReLU Networks"
   ]
  },
  {
   "cell_type": "code",
   "execution_count": 3,
   "id": "prospective-andorra",
   "metadata": {},
   "outputs": [
    {
     "name": "stdout",
     "output_type": "stream",
     "text": [
      "w0= tensor([[2.7140e-05, 4.4114e-06, 8.7711e-05]])\n"
     ]
    }
   ],
   "source": [
    "w0 = 0.0001 * torch.rand(1,d) # initialization with small norm\n",
    "print(\"w0=\", w0)\n",
    "\n",
    "# \n",
    "linear_net = Linear_Net()\n",
    "linear_net.module[0].weight = nn.Parameter(copy.deepcopy(w0)) \n",
    "linear_net.to(device)\n",
    "relu_net = ReLU_Net()\n",
    "relu_net.module[0].weight = nn.Parameter(copy.deepcopy(w0)) \n",
    "relu_net.to(device)\n",
    "\n",
    "\n",
    "# optimization Setting\n",
    "lr = 0.005\n",
    "criterion = nn.MSELoss()\n",
    "linear_optimizer = optim.SGD(linear_net.parameters(), lr=lr)\n",
    "relu_optimizer = optim.SGD(relu_net.parameters(), lr=lr)"
   ]
  },
  {
   "cell_type": "code",
   "execution_count": 4,
   "id": "artificial-password",
   "metadata": {
    "scrolled": true
   },
   "outputs": [],
   "source": [
    "linear_tr = np.empty((0,d)) # Gradient flow of the linear network\n",
    "relu_tr = np.empty((0,d)) # Gradient flow of the ReLU network\n",
    "linear_loss_tr = np.empty(0) # Loss of the ReLU network\n",
    "relu_loss_tr = np.empty(0) # Loss of the ReLU network\n",
    "\n",
    "Epochs = 10000\n",
    "log_period = 10\n",
    "for epoch in range(Epochs) :\n",
    "    linear_loss = criterion(linear_net(X), Y)\n",
    "    linear_loss.backward()\n",
    "    linear_optimizer.step()\n",
    "    linear_net.zero_grad()\n",
    "    \n",
    "    relu_loss = criterion(relu_net(X), Y)\n",
    "    relu_loss.backward()\n",
    "    relu_optimizer.step()\n",
    "    relu_net.zero_grad()\n",
    "    \n",
    "#     if (net(X)>0).prod().item() != 1 :\n",
    "#         print(f\"At epoch {epoch}, deactivation occurs !!!!!!!!!!\")\n",
    "#         print(f\"output is {net(X).detach()}\")    \n",
    "    \n",
    "    if epoch % log_period == 0 :\n",
    "        linear_tr = np.append(linear_tr, linear_net.weight(), axis=0)\n",
    "        relu_tr = np.append(relu_tr, relu_net.weight(), axis=0)\n",
    "        linear_loss_tr = np.append(linear_loss_tr, linear_loss.item())\n",
    "        relu_loss_tr = np.append(relu_loss_tr, relu_loss.item())"
   ]
  },
  {
   "cell_type": "code",
   "execution_count": 5,
   "id": "valued-aside",
   "metadata": {
    "jupyter": {
     "source_hidden": true
    }
   },
   "outputs": [
    {
     "data": {
      "image/png": "[encoded data removed]",
      "text/plain": [
       "<Figure size 432x288 with 1 Axes>"
      ]
     },
     "metadata": {
      "needs_background": "light"
     },
     "output_type": "display_data"
    }
   ],
   "source": [
    "# draw axis\n",
    "lim = 2\n",
    "line = np.linspace(-lim,lim,1000)\n",
    "zero_line = np.zeros_like(line)\n",
    "\n",
    "plt.ion()\n",
    "fig = plt.figure()\n",
    "ax = plt.axes(projection='3d')\n",
    "ax.set_title(\"Gradient flows\", fontsize=15, y=0.95)\n",
    "ax.set_xlabel('X')\n",
    "ax.set_ylabel('Y')\n",
    "ax.set_zlabel('Z')\n",
    "ax.plot3D(line, zero_line, zero_line, 'gray') # x-axis\n",
    "ax.plot3D(zero_line, line, zero_line, 'gray') # y-axis\n",
    "ax.plot3D(zero_line, zero_line, line, 'gray') # z-axis\n",
    "\n",
    "\n",
    "# camera angle\n",
    "ax.azim = 85 # 80 to check y-data is deactivated\n",
    "ax.dist = 10\n",
    "ax.elev = 8\n",
    "\n",
    "#draw eigenvetors\n",
    "\n",
    "\n",
    "\n",
    "# draw hyperplanes\n",
    "# x,y = np.meshgrid(line,line)\n",
    "# z1 = - (X[0][0].item()*x + X[0][1].item()*y) / X[0][2].item()\n",
    "# z2 = - (X[1][0].item()*x + X[1][1].item()*y) / X[1][2].item()\n",
    "# z3 = - (X[2][0].item()*x + X[2][1].item()*y) / X[2][2].item()\n",
    "# z2[z2>lim] = np.nan\n",
    "# z2[z2<-lim] = np.nan\n",
    "# z3[z3>lim] = np.nan\n",
    "# z3[z3<-lim] = np.nan\n",
    "# ax.plot_surface(x, y, z1, alpha=0.5)\n",
    "# ax.plot_surface(x, y, z2, alpha=0.5)\n",
    "# ax.plot_surface(x, y, z3, alpha=0.5)\n",
    "\n",
    "\n",
    "w_star_linear = linear_net.weight()[0]\n",
    "w_star_relu = relu_net.weight()[0]\n",
    "ax.scatter3D(w_star_linear[0], w_star_linear[1], w_star_linear[2])\n",
    "ax.text(w_star_linear[0]+0.2, w_star_linear[1], w_star_linear[2]+0.2, \"w*_l\", size=20, zorder=1, color='blue')\n",
    "ax.scatter3D(w_star_relu[0], w_star_relu[1], w_star_relu[2])\n",
    "ax.text(w_star_relu[0]+0.2, w_star_relu[1], w_star_relu[2]-0.5, \"w*_r\", size=20, zorder=-11, color='orange')\n",
    "\n",
    "\n",
    "ax.scatter3D(zero[0], zero[1], zero[2], color='k')\n",
    "ax.set_xlim(-lim/2, lim)\n",
    "ax.set_ylim(-lim/2, lim)\n",
    "ax.set_zlim(-lim/2, lim/4)\n",
    "\n",
    "# Convergnenc Path\n",
    "ax.plot3D(linear_tr[:,0], linear_tr[:,1], linear_tr[:,2], \"blue\")\n",
    "ax.plot3D(relu_tr[:,0], relu_tr[:,1], relu_tr[:,2], \"orange\")\n",
    "\n",
    "savefig(f'{output_path}/convergence_{Epochs}.png')"
   ]
  },
  {
   "cell_type": "code",
   "execution_count": 6,
   "id": "special-turkey",
   "metadata": {},
   "outputs": [
    {
     "data": {
      "image/png": "[encoded data removed]",
      "text/plain": [
       "<Figure size 432x288 with 1 Axes>"
      ]
     },
     "metadata": {
      "needs_background": "light"
     },
     "output_type": "display_data"
    }
   ],
   "source": [
    "linear_tr_torch = torch.tensor(linear_tr).float()\n",
    "relu_tr_torch = torch.tensor(relu_tr).float()\n",
    "linear_h1 = linear_tr_torch.matmul(X[0])\n",
    "relu_h1 = relu_tr_torch.matmul(X[0])\n",
    "plt.plot(log_period*np.arange(len(linear_h1)), linear_h1, 'blue')\n",
    "plt.plot(log_period*np.arange(len(linear_h1)), relu_h1, 'orange')\n",
    "plt.plot(log_period*np.arange(len(linear_h1)), np.zeros(len(linear_h1)), 'k') # x axis\n",
    "plt.plot(log_period*np.arange(len(linear_h1)), 0.01 * np.ones(len(linear_h1)), 'r--') # asymptotic\n",
    "plt.xlabel('Epochs')\n",
    "# plt.ylabel('$h_1$   ', rotation=0)\n",
    "plt.title('$h_1(w)$')\n",
    "\n",
    "savefig(f'{output_path}/h1_{Epochs}.png')"
   ]
  },
  {
   "cell_type": "code",
   "execution_count": 7,
   "id": "handy-listing",
   "metadata": {},
   "outputs": [
    {
     "data": {
      "image/png": "[encoded data removed]",
      "text/plain": [
       "<Figure size 432x288 with 1 Axes>"
      ]
     },
     "metadata": {
      "needs_background": "light"
     },
     "output_type": "display_data"
    }
   ],
   "source": [
    "plt.plot(log_period*np.arange(len(linear_loss_tr)), linear_loss_tr, 'blue')\n",
    "plt.plot(log_period*np.arange(len(linear_loss_tr)), relu_loss_tr, 'orange')\n",
    "# plt.plot(log_period*np.arange(len(linear_loss_tr)), np.zeros(len(linear_loss_tr)), 'k') # x axis\n",
    "plt.xlabel('Epochs')\n",
    "plt.title('Loss')\n",
    "plt.ylim(0.0000000001,100)\n",
    "plt.yscale('log')\n",
    "\n",
    "savefig(f'{output_path}/Loss_{Epochs}.png')"
   ]
  }
 ],
 "metadata": {
  "kernelspec": {
   "display_name": "Python 3",
   "language": "python",
   "name": "python3"
  },
  "language_info": {
   "codemirror_mode": {
    "name": "ipython",
    "version": 3
   },
   "file_extension": ".py",
   "mimetype": "text/x-python",
   "name": "python",
   "nbconvert_exporter": "python",
   "pygments_lexer": "ipython3",
   "version": "3.7.9"
  }
 },
 "nbformat": 4,
 "nbformat_minor": 5
}
