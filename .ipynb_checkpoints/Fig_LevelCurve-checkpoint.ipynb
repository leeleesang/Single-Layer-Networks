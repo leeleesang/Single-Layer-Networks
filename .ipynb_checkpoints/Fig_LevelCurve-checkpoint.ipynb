{
 "cells": [
  {
   "cell_type": "code",
   "execution_count": 1,
   "id": "invalid-short",
   "metadata": {
    "jupyter": {
     "source_hidden": true
    }
   },
   "outputs": [],
   "source": [
    "%run SetUp.ipynb"
   ]
  },
  {
   "cell_type": "markdown",
   "id": "systematic-delaware",
   "metadata": {},
   "source": [
    "Configuration."
   ]
  },
  {
   "cell_type": "code",
   "execution_count": 2,
   "id": "tutorial-studio",
   "metadata": {},
   "outputs": [
    {
     "name": "stdout",
     "output_type": "stream",
     "text": [
      "eigenvalues of H = tensor([9.5152, 5.2756, 0.2191])\n",
      "w* = tensor([-3.8530,  0.0700,  3.9230])\n"
     ]
    }
   ],
   "source": [
    "## Configuration\n",
    "Title = \"Fig_LevelCurve\"\n",
    "device = 'cpu' # \"cuda:1\" if torch.cuda.is_available() else \"cpu\"\n",
    "output_path = f\"./Results/{Title}\"\n",
    "create_directory(output_path)\n",
    "\n",
    "\n",
    "# data setting \n",
    "n=4 # number of data \n",
    "d=3 # dimension of data \n",
    "\n",
    "\n",
    "# input X is shape of n x d \n",
    "X = torch.tensor([[1, -1, 1], # x1^T\n",
    "                  [1, 2, 1], # x2^T\n",
    "                  [1, .1, 2], # x2^T\n",
    "                  [0, 1., 0]], # x3^T\n",
    "                 device=device).float()\n",
    "# label Y is shape of n x 1\n",
    "Y = torch.tensor([[0.01], [0.2], [4], [.1]], device=device).float()\n",
    "\n",
    "H = X.t().matmul(X) # The Hessian Matirx\n",
    "q = (X * Y).sum(0)\n",
    "\n",
    "U, D, _ = torch.svd(H) # eigenvector decompsition of H\n",
    "print(\"eigenvalues of H =\", D)\n",
    "w_star = torch.linalg.inv(H).matmul(q) # the global minimum of the linear network\n",
    "w_star_cpu = w_star.cpu()\n",
    "zero = np.array([0,0,0.])\n",
    "print(\"w* =\", w_star)"
   ]
  }
 ],
 "metadata": {
  "kernelspec": {
   "display_name": "Python 3",
   "language": "python",
   "name": "python3"
  },
  "language_info": {
   "codemirror_mode": {
    "name": "ipython",
    "version": 3
   },
   "file_extension": ".py",
   "mimetype": "text/x-python",
   "name": "python",
   "nbconvert_exporter": "python",
   "pygments_lexer": "ipython3",
   "version": "3.7.9"
  }
 },
 "nbformat": 4,
 "nbformat_minor": 5
}
