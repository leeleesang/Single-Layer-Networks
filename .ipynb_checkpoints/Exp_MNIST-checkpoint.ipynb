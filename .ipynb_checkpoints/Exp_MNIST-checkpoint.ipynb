{
 "cells": [
  {
   "cell_type": "code",
   "execution_count": 1,
   "id": "assigned-brook",
   "metadata": {},
   "outputs": [],
   "source": [
    "# import basic packages\n",
    "%run SetUp.ipynb"
   ]
  },
  {
   "cell_type": "markdown",
   "id": "corporate-florist",
   "metadata": {},
   "source": [
    "Configuration."
   ]
  },
  {
   "cell_type": "code",
   "execution_count": 2,
   "id": "impaired-knowing",
   "metadata": {},
   "outputs": [
    {
     "name": "stderr",
     "output_type": "stream",
     "text": [
      "/home/user/anaconda3/lib/python3.7/site-packages/torchvision/datasets/mnist.py:498: UserWarning: The given NumPy array is not writeable, and PyTorch does not support non-writeable tensors. This means you can write to the underlying (supposedly non-writeable) NumPy array using the tensor. You may want to copy the array to protect its data or make it writeable before converting it to a tensor. This type of warning will be suppressed for the rest of this program. (Triggered internally at  /pytorch/torch/csrc/utils/tensor_numpy.cpp:180.)\n",
      "  return torch.from_numpy(parsed.astype(m[2], copy=False)).view(*s)\n"
     ]
    }
   ],
   "source": [
    "## Configuration\n",
    "Title = \"Exp_MNIST\"\n",
    "device = \"cuda:1\" if torch.cuda.is_available() else \"cpu\"\n",
    "\n",
    "# create directory\n",
    "output_path = f\"./Results/{Title}\"\n",
    "create_directory(output_path)\n",
    "\n",
    "# data setting \n",
    "n = 3000 # number of data \n",
    "d = 28*28 # dimension of data\n",
    "c = 9 # what class of number?\n",
    "output_class = 1 # output dimension // trainning multi single-layer networks\n",
    "y_true = 10 # true label\n",
    "y_false = 3 # false label\n",
    "\n",
    "# load data \n",
    "X, Y = data_load('MNIST')\n",
    "X = X.to(device) # input X is of shape n x d \n",
    "Y = (y_false + (y_true-y_false)*(Y == c).float()).to(device) # label Y is of shape n x c\n",
    "\n",
    "# UserWarning occurs, due to the torch version and torchvision version."
   ]
  },
  {
   "cell_type": "code",
   "execution_count": 3,
   "id": "spread-tension",
   "metadata": {},
   "outputs": [],
   "source": [
    "net = ReLU_Net(output_class=output_class)\n",
    "net.module[0].weight = nn.Parameter(torch.rand(output_class, d)*0.0000001)\n",
    "net.to(device)\n",
    "\n",
    "\n",
    "# Optimization setting\n",
    "Epochs = 1000*1000\n",
    "lr = 0.005\n",
    "criterion = nn.MSELoss()\n",
    "optimizer = optim.SGD(net.parameters(), lr=lr)\n",
    "folder_name = output_path + '/runs/' + datetime.datetime.now().strftime(\"%B%d_%H_%M_%S\")\n",
    "writer = SummaryWriter(folder_name)\n",
    "# Save CFG file\n",
    "f = open(f\"./{folder_name}/CFG.text\", 'w')\n",
    "f.write(\n",
    "f\"\"\"\n",
    "    This is a CFG file.\n",
    "\n",
    "    # dataset\n",
    "    n = {n} # number of data\n",
    "    y_true = {y_true}\n",
    "    y_false = {y_false}\n",
    "    class = {c}\n",
    "\n",
    "    # optimization\n",
    "    Epochs = {Epochs}\n",
    "    lr = {lr}\n",
    "\"\"\"\n",
    ")\n",
    "f.close()"
   ]
  },
  {
   "cell_type": "code",
   "execution_count": 4,
   "id": "crude-allocation",
   "metadata": {},
   "outputs": [
    {
     "name": "stdout",
     "output_type": "stream",
     "text": [
      "Start Training\n"
     ]
    },
    {
     "name": "stderr",
     "output_type": "stream",
     "text": [
      "100%|██████████| 1000000/1000000 [04:40<00:00, 3559.23it/s]\n"
     ]
    }
   ],
   "source": [
    "# loss_tr = np.empty(0)\n",
    "print(\"Start Training\")\n",
    "time.sleep(1)\n",
    "\n",
    "log_period = 10\n",
    "for epoch in tqdm(range(Epochs)) :\n",
    "    loss = criterion(net(X), Y)\n",
    "    loss.backward()\n",
    "    optimizer.step()\n",
    "    net.zero_grad()\n",
    "    \n",
    "    if epoch % log_period == 0 :\n",
    "#         loss_tr = np.append(loss_tr, loss.item())\n",
    "        writer.add_scalar(\"ReLU/Loss\", loss.item(), epoch+1)\n",
    "        writer.add_scalar(\"ReLU/# of SVs\", (net(X)>0).sum().item(), epoch+1)"
   ]
  },
  {
   "cell_type": "code",
   "execution_count": 5,
   "id": "least-currency",
   "metadata": {},
   "outputs": [],
   "source": [
    "# save non-support vectors by images\n",
    "# nSVs = X[(net(X)==0).squeeze()]\n",
    "nSVs_index = (net(X)==0).nonzero()[:,0]\n",
    "for index in nSVs_index:\n",
    "    plt.imshow(X[index].view(28,28).cpu().detach(), cmap='gray')\n",
    "    plt.savefig(folder_name+f\"/{index}.png\")\n",
    "    plt.close()"
   ]
  }
 ],
 "metadata": {
  "kernelspec": {
   "display_name": "Python 3",
   "language": "python",
   "name": "python3"
  },
  "language_info": {
   "codemirror_mode": {
    "name": "ipython",
    "version": 3
   },
   "file_extension": ".py",
   "mimetype": "text/x-python",
   "name": "python",
   "nbconvert_exporter": "python",
   "pygments_lexer": "ipython3",
   "version": "3.7.9"
  }
 },
 "nbformat": 4,
 "nbformat_minor": 5
}
