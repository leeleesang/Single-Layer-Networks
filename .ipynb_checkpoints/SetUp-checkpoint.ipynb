{
 "cells": [
  {
   "cell_type": "markdown",
   "id": "possible-twelve",
   "metadata": {},
   "source": [
    "Import packages"
   ]
  },
  {
   "cell_type": "code",
   "execution_count": 17,
   "id": "hollywood-beatles",
   "metadata": {},
   "outputs": [],
   "source": [
    "import numpy as np\n",
    "import copy\n",
    "import time\n",
    "import os\n",
    "\n",
    "import matplotlib.pyplot as plt\n",
    "from mpl_toolkits import mplot3d\n",
    "\n",
    "\n",
    "import torch\n",
    "import torchvision\n",
    "import torch.nn as nn\n",
    "import torch.optim as optim"
   ]
  },
  {
   "cell_type": "markdown",
   "id": "organizational-cleaning",
   "metadata": {},
   "source": [
    "Useful Functions"
   ]
  },
  {
   "cell_type": "code",
   "execution_count": 17,
   "id": "efficient-austin",
   "metadata": {},
   "outputs": [],
   "source": [
    "# image show function\n",
    "def imshow(x, title=None):\n",
    "    if torch.is_tensor(x) :\n",
    "        x.detach().cpu().squeeze()\n",
    "        plt.imshow(x)\n",
    "        plt.title(title)\n",
    "        plt.show()\n",
    "    else :\n",
    "        plt.imshow(x.squeeze())\n",
    "        plt.title(title)\n",
    "        plt.show()\n",
    "        \n",
    "def create_directory(directory): \n",
    "    try: \n",
    "        if not os.path.exists(directory): \n",
    "            os.makedirs(directory) \n",
    "    except OSError: print(\"Error: Failed to create the directory.\")\n",
    "        \n",
    "def savefig(directory):\n",
    "    plt.savefig(directory)\n",
    "    plt.show()\n",
    "    plt.close()"
   ]
  },
  {
   "cell_type": "code",
   "execution_count": 3,
   "id": "parliamentary-christmas",
   "metadata": {},
   "outputs": [],
   "source": [
    "# Single-Layer Linear and ReLU Networks\n",
    "\n",
    "class Linear_Net(nn.Module):\n",
    "    def __init__(self):\n",
    "        super(Linear_Net, self).__init__()\n",
    "        self.module = nn.Sequential(\n",
    "            nn.Linear(d, 1, bias=False)\n",
    "        )\n",
    "    def forward(self, x):\n",
    "        return self.module(x) \n",
    "    \n",
    "    def weight(self):\n",
    "        return self.module[0].weight.detach().cpu()\n",
    "\n",
    "\n",
    "class ReLU_Net(nn.Module):\n",
    "    def __init__(self):\n",
    "        super(ReLU_Net, self).__init__()\n",
    "        self.module = nn.Sequential(\n",
    "            nn.Linear(d, 1, bias=False),\n",
    "            nn.ReLU()\n",
    "        )\n",
    "    def forward(self, x):\n",
    "        return self.module(x) \n",
    "    \n",
    "    def weight(self):\n",
    "        return self.module[0].weight.detach().cpu()"
   ]
  }
 ],
 "metadata": {
  "kernelspec": {
   "display_name": "Python 3",
   "language": "python",
   "name": "python3"
  },
  "language_info": {
   "codemirror_mode": {
    "name": "ipython",
    "version": 3
   },
   "file_extension": ".py",
   "mimetype": "text/x-python",
   "name": "python",
   "nbconvert_exporter": "python",
   "pygments_lexer": "ipython3",
   "version": "3.7.9"
  }
 },
 "nbformat": 4,
 "nbformat_minor": 5
}
