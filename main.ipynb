{
 "cells": [
  {
   "cell_type": "code",
   "execution_count": null,
   "id": "thick-favorite",
   "metadata": {},
   "outputs": [],
   "source": [
    "y_true = \n",
    "y_label = \n",
    "for _c in range(10):\n",
    "    c = _c\n",
    "    print(c)\n",
    "    %run Exp_MNIST.ipynb\n",
    "    print(\"-------------------------------------\")\n"
   ]
  }
 ],
 "metadata": {
  "kernelspec": {
   "display_name": "Python 3",
   "language": "python",
   "name": "python3"
  },
  "language_info": {
   "codemirror_mode": {
    "name": "ipython",
    "version": 3
   },
   "file_extension": ".py",
   "mimetype": "text/x-python",
   "name": "python",
   "nbconvert_exporter": "python",
   "pygments_lexer": "ipython3",
   "version": "3.7.9"
  }
 },
 "nbformat": 4,
 "nbformat_minor": 5
}
